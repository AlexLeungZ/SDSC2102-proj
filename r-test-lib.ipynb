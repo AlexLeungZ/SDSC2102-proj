{
 "cells": [
  {
   "cell_type": "code",
   "execution_count": 1,
   "source": [
    "library(dplyr)\n",
    "library(ggplot2)\n",
    "library(haven)"
   ],
   "outputs": [
    {
     "output_type": "stream",
     "name": "stderr",
     "text": [
      "\n",
      "Attaching package: ‘dplyr’\n",
      "\n",
      "\n",
      "The following objects are masked from ‘package:stats’:\n",
      "\n",
      "    filter, lag\n",
      "\n",
      "\n",
      "The following objects are masked from ‘package:base’:\n",
      "\n",
      "    intersect, setdiff, setequal, union\n",
      "\n",
      "\n"
     ]
    }
   ],
   "metadata": {}
  },
  {
   "cell_type": "code",
   "execution_count": 2,
   "source": [
    ".libPaths() \n",
    "R.home()"
   ],
   "outputs": [
    {
     "output_type": "display_data",
     "data": {
      "text/html": [
       "'/home/wilson114/anaconda3/envs/r_env/lib/R/library'"
      ],
      "text/latex": [
       "'/home/wilson114/anaconda3/envs/r\\_env/lib/R/library'"
      ],
      "text/markdown": [
       "'/home/wilson114/anaconda3/envs/r_env/lib/R/library'"
      ],
      "text/plain": [
       "[1] \"/home/wilson114/anaconda3/envs/r_env/lib/R/library\""
      ]
     },
     "metadata": {}
    },
    {
     "output_type": "display_data",
     "data": {
      "text/html": [
       "'/home/wilson114/anaconda3/envs/r_env/lib/R'"
      ],
      "text/latex": [
       "'/home/wilson114/anaconda3/envs/r\\_env/lib/R'"
      ],
      "text/markdown": [
       "'/home/wilson114/anaconda3/envs/r_env/lib/R'"
      ],
      "text/plain": [
       "[1] \"/home/wilson114/anaconda3/envs/r_env/lib/R\""
      ]
     },
     "metadata": {}
    }
   ],
   "metadata": {}
  },
  {
   "cell_type": "code",
   "execution_count": 3,
   "source": [
    "DQdata <- read_xpt(\"data/DIQ_J.XPT\")\n",
    "BMdata <- read_xpt(\"data/BMX_J.XPT\")\n",
    "BPdata <- read_xpt(\"data/BPQ_J.XPT\")\n",
    "AUdata <- read_xpt(\"data/ALQ_J.XPT\")"
   ],
   "outputs": [
    {
     "output_type": "error",
     "ename": "ERROR",
     "evalue": "Error: 'data/DIQ_J.XPT' does not exist in current working directory ('/mnt/d/source/R/SDSC2102-project').\n",
     "traceback": [
      "Error: 'data/DIQ_J.XPT' does not exist in current working directory ('/mnt/d/source/R/SDSC2102-project').\nTraceback:\n",
      "1. read_xpt(\"data/DIQ_J.XPT\")",
      "2. readr::datasource(file)",
      "3. standardise_path(file)",
      "4. check_path(path)",
      "5. stop(\"'\", path, \"' does not exist\", if (!is_absolute_path(path)) {\n .     paste0(\" in current working directory ('\", getwd(), \"')\")\n . }, \".\", call. = FALSE)"
     ]
    }
   ],
   "metadata": {}
  }
 ],
 "metadata": {
  "kernelspec": {
   "display_name": "R",
   "language": "R",
   "name": "ir"
  },
  "language_info": {
   "codemirror_mode": "r",
   "file_extension": ".r",
   "mimetype": "text/x-r-source",
   "name": "R",
   "pygments_lexer": "r",
   "version": "4.1.2"
  },
  "orig_nbformat": 4
 },
 "nbformat": 4,
 "nbformat_minor": 2
}