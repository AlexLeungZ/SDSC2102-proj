{
 "cells": [
  {
   "cell_type": "code",
   "execution_count": 1,
   "metadata": {},
   "outputs": [
    {
     "name": "stderr",
     "output_type": "stream",
     "text": [
      "\n",
      "Attaching package: ‘dplyr’\n",
      "\n",
      "\n",
      "The following objects are masked from ‘package:stats’:\n",
      "\n",
      "    filter, lag\n",
      "\n",
      "\n",
      "The following objects are masked from ‘package:base’:\n",
      "\n",
      "    intersect, setdiff, setequal, union\n",
      "\n",
      "\n"
     ]
    }
   ],
   "source": [
    "library(dplyr)\n",
    "library(ggplot2)\n",
    "library(haven)"
   ]
  },
  {
   "cell_type": "code",
   "execution_count": 1,
   "metadata": {},
   "outputs": [
    {
     "data": {
      "text/html": [
       "'/home/alex/anaconda3/envs/r_env/lib/R/library'"
      ],
      "text/latex": [
       "'/home/alex/anaconda3/envs/r\\_env/lib/R/library'"
      ],
      "text/markdown": [
       "'/home/alex/anaconda3/envs/r_env/lib/R/library'"
      ],
      "text/plain": [
       "[1] \"/home/alex/anaconda3/envs/r_env/lib/R/library\""
      ]
     },
     "metadata": {},
     "output_type": "display_data"
    },
    {
     "data": {
      "text/html": [
       "'/home/alex/anaconda3/envs/r_env/lib/R'"
      ],
      "text/latex": [
       "'/home/alex/anaconda3/envs/r\\_env/lib/R'"
      ],
      "text/markdown": [
       "'/home/alex/anaconda3/envs/r_env/lib/R'"
      ],
      "text/plain": [
       "[1] \"/home/alex/anaconda3/envs/r_env/lib/R\""
      ]
     },
     "metadata": {},
     "output_type": "display_data"
    }
   ],
   "source": [
    ".libPaths() \n",
    "R.home()"
   ]
  }
 ],
 "metadata": {
  "kernelspec": {
   "display_name": "R",
   "language": "R",
   "name": "ir"
  },
  "language_info": {
   "codemirror_mode": "r",
   "file_extension": ".r",
   "mimetype": "text/x-r-source",
   "name": "R",
   "pygments_lexer": "r",
   "version": "4.1.2"
  },
  "orig_nbformat": 4
 },
 "nbformat": 4,
 "nbformat_minor": 2
}
